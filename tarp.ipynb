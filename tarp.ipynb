{
 "cells": [
  {
   "cell_type": "code",
   "execution_count": 2,
   "metadata": {},
   "outputs": [],
   "source": [
    "import matplotlib.pyplot\n",
    "import pandas as pd\n",
    "dat= pd.read_csv('data.csv')\n",
    "data=dat.dropna()\n",
    "#data\n"
   ]
  },
  {
   "cell_type": "code",
   "execution_count": 3,
   "metadata": {},
   "outputs": [
    {
     "name": "stderr",
     "output_type": "stream",
     "text": [
      "C:\\Users\\Welcome\\Anaconda3\\lib\\site-packages\\pandas\\core\\frame.py:4102: SettingWithCopyWarning: \n",
      "A value is trying to be set on a copy of a slice from a DataFrame\n",
      "\n",
      "See the caveats in the documentation: http://pandas.pydata.org/pandas-docs/stable/user_guide/indexing.html#returning-a-view-versus-a-copy\n",
      "  errors=errors,\n"
     ]
    }
   ],
   "source": [
    "data.drop(data.columns[[2,4,5,9,10]] ,axis=1,inplace=True)"
   ]
  },
  {
   "cell_type": "code",
   "execution_count": 4,
   "metadata": {},
   "outputs": [],
   "source": [
    "#data"
   ]
  },
  {
   "cell_type": "code",
   "execution_count": 5,
   "metadata": {
    "scrolled": true
   },
   "outputs": [
    {
     "name": "stderr",
     "output_type": "stream",
     "text": [
      "C:\\Users\\Welcome\\Anaconda3\\lib\\site-packages\\pandas\\core\\frame.py:4223: SettingWithCopyWarning: \n",
      "A value is trying to be set on a copy of a slice from a DataFrame\n",
      "\n",
      "See the caveats in the documentation: http://pandas.pydata.org/pandas-docs/stable/user_guide/indexing.html#returning-a-view-versus-a-copy\n",
      "  return super().rename(**kwargs)\n"
     ]
    }
   ],
   "source": [
    "data.rename(columns = {'Sample Site':'sample_site','Sample Number':'S.no'}, inplace = True)\n"
   ]
  },
  {
   "cell_type": "code",
   "execution_count": 6,
   "metadata": {},
   "outputs": [],
   "source": [
    "data.rename(columns = {'Residual Free Chlorine (mg/L)':'chlorine','Turbidity (NTU)':'turb','Fluoride (mg/L)':'fluoride','Sample Date':'date'}, inplace = True)\n",
    "#data"
   ]
  },
  {
   "cell_type": "code",
   "execution_count": 7,
   "metadata": {},
   "outputs": [],
   "source": [
    "X=data[data.sample_site =='1S07']"
   ]
  },
  {
   "cell_type": "code",
   "execution_count": 8,
   "metadata": {},
   "outputs": [],
   "source": [
    "#display(X)\n",
    "from datetime import datetime"
   ]
  },
  {
   "cell_type": "code",
   "execution_count": 9,
   "metadata": {},
   "outputs": [],
   "source": [
    "my_string = X.date\n",
    "for i in my_string:\n",
    "    my_date = datetime.strptime(i, \"%m/%d/%Y\")\n",
    "    X=X.replace(i,my_date.day)\n",
    "#display(X)\n",
    "\n",
    "\n"
   ]
  },
  {
   "cell_type": "code",
   "execution_count": 10,
   "metadata": {},
   "outputs": [],
   "source": [
    "X=X.sort_values(by=['date'])\n",
    "#m=pd.get_dummies(data.sample_site)data=pd.concat([data,m],axis=1)\n",
    "#data.drop(\"sample_site\",inplace=True,axis=1)\n",
    "#data\n",
    "#X"
   ]
  },
  {
   "cell_type": "code",
   "execution_count": 11,
   "metadata": {},
   "outputs": [],
   "source": [
    "import matplotlib.pyplot as plt"
   ]
  },
  {
   "cell_type": "code",
   "execution_count": 12,
   "metadata": {},
   "outputs": [],
   "source": [
    "#cl=4,fl=1.5,turb=4"
   ]
  },
  {
   "cell_type": "code",
   "execution_count": 13,
   "metadata": {},
   "outputs": [],
   "source": [
    "from sklearn.model_selection import train_test_split\n",
    "x_train1,x_test1,y_train1,y_test1=train_test_split(X.date,X.chlorine)\n",
    "\n",
    "#plt.scatter(x_train1,y_train1,label='training data',color='r')\n",
    "#plt.scatter(x_test1,y_test1,label='testing data',color='g')\n",
    "#plt.legend()\n"
   ]
  },
  {
   "cell_type": "code",
   "execution_count": 14,
   "metadata": {},
   "outputs": [],
   "source": [
    "from sklearn.linear_model import LinearRegression\n",
    "regressor1=LinearRegression()\n",
    "regressor1.fit(x_train1.values.reshape(-1,1),y_train1)\n",
    "prediction1=regressor1.predict(x_test1.values.reshape(-1,1))\n",
    "#plt.plot(x_test1,prediction1,label='Linear Regression', color='b')\n",
    "#plt.scatter(x_test1,y_test1,label='testing data',color='g')\n",
    "#plt.scatter(x_train1,y_train1,label='training data',color='r')\n",
    "#plt.legend()\n",
    "#plt.show()"
   ]
  },
  {
   "cell_type": "code",
   "execution_count": null,
   "metadata": {},
   "outputs": [],
   "source": []
  },
  {
   "cell_type": "code",
   "execution_count": 15,
   "metadata": {},
   "outputs": [],
   "source": [
    "import numpy as np\n",
    "#regressor1.predict(np.array([[50]]))[0]"
   ]
  },
  {
   "cell_type": "code",
   "execution_count": 16,
   "metadata": {},
   "outputs": [],
   "source": [
    "from sklearn.model_selection import train_test_split\n",
    "x_train2,x_test2,y_train2,y_test2=train_test_split(X.date,X.turb)\n",
    "\n",
    "#plt.scatter(x_train2,y_train2,label='training data',color='r')\n",
    "#plt.scatter(x_test2,y_test2,label='testning data',color='g')\n",
    "#plt.legend()"
   ]
  },
  {
   "cell_type": "code",
   "execution_count": 17,
   "metadata": {},
   "outputs": [],
   "source": [
    "from sklearn.linear_model import LinearRegression\n",
    "regressor2=LinearRegression()\n",
    "regressor2.fit(x_train2.values.reshape(-1,1),y_train2)\n",
    "prediction2=regressor2.predict(x_test2.values.reshape(-1,1))\n",
    "#plt.plot(x_test2,prediction2,label='Linear Regression', color='b')\n",
    "#plt.scatter(x_test2,y_test2,label='testing data',color='g')\n",
    "#plt.scatter(x_train2,y_train2,label='training data',color='r')\n",
    "#plt.legend()\n",
    "#plt.show()"
   ]
  },
  {
   "cell_type": "code",
   "execution_count": null,
   "metadata": {},
   "outputs": [],
   "source": []
  },
  {
   "cell_type": "code",
   "execution_count": 18,
   "metadata": {},
   "outputs": [],
   "source": [
    "import numpy as np\n",
    "#regressor2.predict(np.array([[50]]))[0]"
   ]
  },
  {
   "cell_type": "code",
   "execution_count": 19,
   "metadata": {},
   "outputs": [],
   "source": [
    "from sklearn.model_selection import train_test_split\n",
    "x_train3,x_test3,y_train3,y_test3=train_test_split(X.date,X.fluoride)\n",
    "\n",
    "#plt.scatter(x_train3,y_train3,label='training data',color='r')\n",
    "#plt.scatter(x_test3,y_test3,label='testing data',color='g')\n",
    "#plt.legend()"
   ]
  },
  {
   "cell_type": "code",
   "execution_count": 20,
   "metadata": {},
   "outputs": [],
   "source": [
    "from sklearn.linear_model import LinearRegression\n",
    "regressor3=LinearRegression()\n",
    "regressor3.fit(x_train3.values.reshape(-1,1),y_train3)\n",
    "prediction3=regressor3.predict(x_test3.values.reshape(-1,1))\n",
    "#plt.plot(x_test3,prediction3,label='Linear Regression', color='b')\n",
    "#plt.scatter(x_test3,y_test3,label='testing data',color='g')\n",
    "#plt.scatter(x_train3,y_train3,label='training data',color='r')\n",
    "#plt.legend()\n",
    "#plt.show()"
   ]
  },
  {
   "cell_type": "code",
   "execution_count": 21,
   "metadata": {},
   "outputs": [],
   "source": [
    "import numpy as np\n",
    "#regressor3.predict(np.array([[34]]))[0]"
   ]
  },
  {
   "cell_type": "code",
   "execution_count": null,
   "metadata": {},
   "outputs": [],
   "source": [
    "from ipywidgets import widgets\n",
    "lb1=widgets.Label(\"enter the day\")\n",
    "display(lb1)\n",
    "text1=widgets.Text()\n",
    "display(text1)\n",
    "find_but=widgets.Button(description='find')\n",
    "show_but=widgets.Button(description='show graph')\n",
    "display(widgets.HBox((find_but,show_but)))\n",
    "lb2=widgets.Label()\n",
    "display(lb2)\n",
    "lb3=widgets.Label()\n",
    "display(lb3)\n",
    "lb4=widgets.Label()\n",
    "display(lb4)\n",
    "def value_find(b):\n",
    "    day=int(text1.value)\n",
    "    lb4.value=\"the fluoride value is \"+str(regressor3.predict(np.array([[int(day)]]))[0])\n",
    "    lb3.value=\"the turbity value is \"+str(regressor2.predict(np.array([[int(day)]]))[0])\n",
    "    lb2.value=\"the chlorine value is \"+str(regressor1.predict(np.array([[int(day)]]))[0])\n",
    "find_but.on_click(value_find)\n",
    "def show_graph(b):\n",
    "    plt.plot(x_test3,prediction3,label='Linear Regression', color='b')\n",
    "    plt.scatter(x_test3,y_test3,label='testing data',color='g')\n",
    "    plt.scatter(x_train3,y_train3,label='training data',color='r')\n",
    "    plt.ylabel('fluoride level(ppm)')\n",
    "    plt.xlabel('days')\n",
    "    plt.title('fluoride level vs days')\n",
    "    plt.legend()\n",
    "    plt.show()\n",
    "    plt.plot(x_test2,prediction2,label='Linear Regression', color='b')\n",
    "    plt.scatter(x_test2,y_test2,label='testing data',color='g')\n",
    "    plt.scatter(x_train2,y_train2,label='training data',color='r')\n",
    "    plt.ylabel('turbidity level (NTU)')\n",
    "    plt.xlabel('days')\n",
    "    plt.title('turbidity vs days')\n",
    "    plt.legend()\n",
    "    plt.show()\n",
    "    plt.plot(x_test1,prediction1,label='Linear Regression', color='b')\n",
    "    plt.scatter(x_test1,y_test1,label='testing data',color='g')\n",
    "    plt.scatter(x_train1,y_train1,label='training data',color='r')\n",
    "    plt.ylabel('chlorine level(ppm)')\n",
    "    plt.xlabel('days')\n",
    "    plt.title('chlorine level vs days')\n",
    "    plt.legend()\n",
    "    plt.show()\n",
    "show_but.on_click(show_graph)\n"
   ]
  },
  {
   "cell_type": "code",
   "execution_count": null,
   "metadata": {},
   "outputs": [],
   "source": []
  }
 ],
 "metadata": {
  "kernelspec": {
   "display_name": "Python 3",
   "language": "python",
   "name": "python3"
  },
  "language_info": {
   "codemirror_mode": {
    "name": "ipython",
    "version": 3
   },
   "file_extension": ".py",
   "mimetype": "text/x-python",
   "name": "python",
   "nbconvert_exporter": "python",
   "pygments_lexer": "ipython3",
   "version": "3.7.4"
  }
 },
 "nbformat": 4,
 "nbformat_minor": 4
}
